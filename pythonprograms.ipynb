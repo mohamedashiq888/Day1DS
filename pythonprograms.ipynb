{
  "nbformat": 4,
  "nbformat_minor": 0,
  "metadata": {
    "colab": {
      "name": "pythonprograms.ipynb",
      "provenance": [],
      "collapsed_sections": [],
      "authorship_tag": "ABX9TyNonUVLrLxSKeiiloTqtCPl",
      "include_colab_link": true
    },
    "kernelspec": {
      "name": "python3",
      "display_name": "Python 3"
    },
    "language_info": {
      "name": "python"
    }
  },
  "cells": [
    {
      "cell_type": "markdown",
      "metadata": {
        "id": "view-in-github",
        "colab_type": "text"
      },
      "source": [
        "<a href=\"https://colab.research.google.com/github/mohamedashiq888/Day1DS/blob/main/pythonprograms.ipynb\" target=\"_parent\"><img src=\"https://colab.research.google.com/assets/colab-badge.svg\" alt=\"Open In Colab\"/></a>"
      ]
    },
    {
      "cell_type": "markdown",
      "metadata": {
        "id": "2PiADPjMNhUp"
      },
      "source": [
        "**Addition two numbers**"
      ]
    },
    {
      "cell_type": "code",
      "metadata": {
        "colab": {
          "base_uri": "https://localhost:8080/"
        },
        "id": "S6n-JHJuNiAT",
        "outputId": "6dc50d27-8029-4af6-9416-685e2096ccdc"
      },
      "source": [
        "a = (input('Enter the first number: '))\n",
        "b = (input('Enter the second number: '))\n",
        "sum = float(a)+float(b)\n",
        "print(f'Sum of {a} and {b} is 8 {sum}')"
      ],
      "execution_count": null,
      "outputs": [
        {
          "output_type": "stream",
          "text": [
            "Enter the first number: 4.2\n",
            "Enter the second number: 8\n",
            "Sum of 4.2 and 8 is 8 12.2\n"
          ],
          "name": "stdout"
        }
      ]
    },
    {
      "cell_type": "markdown",
      "metadata": {
        "id": "IAtOKsGKRX7V"
      },
      "source": [
        "**Finding square root**"
      ]
    },
    {
      "cell_type": "code",
      "metadata": {
        "colab": {
          "base_uri": "https://localhost:8080/"
        },
        "id": "QmyRee0uTeDG",
        "outputId": "e58eabe0-ec2d-41fa-b418-c46fae271ecb"
      },
      "source": [
        "a = float(input('Enter the number: '))\n",
        "print('Square root of {0} is {1:0.2f}'.format(a,a**2))"
      ],
      "execution_count": null,
      "outputs": [
        {
          "output_type": "stream",
          "text": [
            "Enter the number: 4\n",
            "Square root of 4.0 is 16.00\n"
          ],
          "name": "stdout"
        }
      ]
    },
    {
      "cell_type": "markdown",
      "metadata": {
        "id": "VtDtB-nyVZGN"
      },
      "source": [
        "**Finding square root of imaginary numbers**\n",
        "\n"
      ]
    },
    {
      "cell_type": "code",
      "metadata": {
        "colab": {
          "base_uri": "https://localhost:8080/"
        },
        "id": "CWbrAAKnVn-3",
        "outputId": "96a13d45-c2f4-4e36-8520-0ece6d6f7e9d"
      },
      "source": [
        "import cmath\n",
        "num = eval(input('Enter the imaginary number: '))\n",
        "#num = 1+2j\n",
        "sqrt = cmath.sqrt(num)\n",
        "print('Square root of {0} is {1}'.format(num,sqrt))\n",
        "print('Square root of {0} is {1:0.2f}+{2:0.2f}j'.format(num,sqrt.real,sqrt.imag))"
      ],
      "execution_count": null,
      "outputs": [
        {
          "output_type": "stream",
          "text": [
            "Enter the imaginary number: 1+2j\n",
            "Square root of (1+2j) is (1.272019649514069+0.7861513777574233j)\n",
            "Square root of (1+2j) is 1.27+0.79j\n"
          ],
          "name": "stdout"
        }
      ]
    },
    {
      "cell_type": "markdown",
      "metadata": {
        "id": "t9jjaP1odmk6"
      },
      "source": [
        "**Calculate the area of triangle**"
      ]
    },
    {
      "cell_type": "code",
      "metadata": {
        "colab": {
          "base_uri": "https://localhost:8080/"
        },
        "id": "R5PM0Lo50rCB",
        "outputId": "ca1429a8-0dfb-429b-de6c-6df080953bb1"
      },
      "source": [
        "b = float(input('Enter the base: '))\n",
        "h = float(input('Enter the height: '))\n",
        "area = 0.5*b*h\n",
        "print(f'Area of the triangle is {area}')"
      ],
      "execution_count": null,
      "outputs": [
        {
          "output_type": "stream",
          "text": [
            "Enter the base: 4\n",
            "Enter the height: 8\n",
            "Area of the triangle is 16.0\n"
          ],
          "name": "stdout"
        }
      ]
    },
    {
      "cell_type": "markdown",
      "metadata": {
        "id": "XkBh0nuv1_e7"
      },
      "source": [
        "**Solving Quadratic equation**"
      ]
    },
    {
      "cell_type": "code",
      "metadata": {
        "colab": {
          "base_uri": "https://localhost:8080/"
        },
        "id": "MuVLl4bQ5B6Z",
        "outputId": "4dc84ea2-2632-4a42-d569-1663d8019776"
      },
      "source": [
        "import cmath\n",
        "\n",
        "#Quadratic fpr equation looks like  ax**2 +bx +c\n",
        "a = int(input('Enter the value of a: '))\n",
        "b = int(input('Enter the value of b: '))\n",
        "c = int(input('Enter the value of c: '))\n",
        "\n",
        "#formula is s = -b+-(b**2-4*a*c)**0.5/2*a\n",
        "#to find discriminent \n",
        "d = (b**2)-(4*a*c)\n",
        "\n",
        "solution1 = (-b+cmath.sqrt(d))/(2*a)\n",
        "solution2 = (-b-cmath.sqrt(d))/(2*a)\n",
        "print(f'The solutions are {solution1} and {solution2}')\n",
        "\n",
        "#to print two digits after decimal point\n",
        "print('The solutions are ({0:.2f}) and ({1:.2f})'.format(solution1,solution2))"
      ],
      "execution_count": null,
      "outputs": [
        {
          "output_type": "stream",
          "text": [
            "Enter the value of a: 1\n",
            "Enter the value of b: 2\n",
            "Enter the value of c: 3\n",
            "The solutions are (-1+1.4142135623730951j) and (-1-1.4142135623730951j)\n",
            "The solutions are (-1.00+1.41j) and (-1.00-1.41j)\n"
          ],
          "name": "stdout"
        }
      ]
    },
    {
      "cell_type": "markdown",
      "metadata": {
        "id": "mujEtSleGo9z"
      },
      "source": [
        "**Printing random number**"
      ]
    },
    {
      "cell_type": "code",
      "metadata": {
        "colab": {
          "base_uri": "https://localhost:8080/"
        },
        "id": "Wp2VBtAFGyVR",
        "outputId": "dc51c5b0-efc4-4cd9-edf4-1aabe518e21d"
      },
      "source": [
        "import random\n",
        "#randint() function is used to print random numbers a<=n>=b\n",
        "print(random.randint(1,9))"
      ],
      "execution_count": null,
      "outputs": [
        {
          "output_type": "stream",
          "text": [
            "4\n"
          ],
          "name": "stdout"
        }
      ]
    },
    {
      "cell_type": "markdown",
      "metadata": {
        "id": "6Gwx6wpOtgE7"
      },
      "source": [
        "**Finding Factorial**"
      ]
    },
    {
      "cell_type": "code",
      "metadata": {
        "colab": {
          "base_uri": "https://localhost:8080/"
        },
        "id": "rZp5UIHStlbD",
        "outputId": "ba8f852f-79f4-4a74-d9f8-8d78a087f728"
      },
      "source": [
        "n = int(input('Enter the number to find factorial: '))\n",
        "fact = 1\n",
        "for i in range(1,n+1):\n",
        "  fact = fact*i\n",
        "print('The Factorial of {0} is {1}'.format(n,fact))\n",
        "\n",
        "#Using function\n",
        "def factorial(x):\n",
        "  while (x>1):\n",
        "    facto = 1\n",
        "    facto = facto*x\n",
        "    x=x-1\n",
        "  return fact\n",
        "num = int(input('Enter the number to find factorial: '))\n",
        "print(f'Factorial of {num} is {factorial(num)}')"
      ],
      "execution_count": null,
      "outputs": [
        {
          "output_type": "stream",
          "text": [
            "Enter the number to find factorial: 4\n",
            "The Factorial of 4 is 24\n",
            "Enter the number to find factorial: 4\n",
            "Factorial of 4 is 24\n"
          ],
          "name": "stdout"
        }
      ]
    }
  ]
}